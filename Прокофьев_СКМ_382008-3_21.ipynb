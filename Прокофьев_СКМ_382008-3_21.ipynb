{
 "cells": [
  {
   "cell_type": "markdown",
   "metadata": {},
   "source": [
    "# Задание 21 - Уравнение Кеплера\n",
    "[Каханер–Моулер–Нэш] Уравнение Кеплера для вычисления орбиты имеет вид$$\n",
    "M=E-\\varepsilon\\sin E,\n",
    "$$где $M$ – средняя аномалия, $E$ – эксцентрическая аномалия, $\\varepsilon$ – эксцентриситет орбиты. Пусть $M=24.851090$, $\\varepsilon=0.1$.\n",
    "\n",
    "1. Изобразите полученную орбиту.\n",
    "2. С помощью функции scipy.optimize.brentq найдите $E$.\n",
    "3. Вычислите $E$ с помощью формулы\n",
    "$$\n",
    "  E = M + 2\\sum_{m=1}^{\\infty} \\frac{1}{m} J_m(m\\varepsilon) \\sin(mM),\n",
    "$$\n",
    "где $J_m(x)$ – функция Бесселя $1$-го рода порядка $m$.\n",
    "4. Найдите $E$ по предыдущей формуле, используя равенство  \n",
    "$$\n",
    "  J_m(m\\varepsilon) = \\sum_{n=0}^{\\infty} \\frac{(-1)^n (m\\varepsilon/2)^{2n+m}}{n!(m+n)!}.\n",
    "$$\n",
    "5. Проведите сравнение вычислительных затрат и точности результатов, полученных каждым из трех способов.\n"
   ]
  },
  {
   "cell_type": "markdown",
   "metadata": {},
   "source": [
    "# Вывод уравнения Кеплера\n",
    "\n",
    "Вывод уравнения Кеплера $sqrt(1-e^2)$ окружность. Здесь e — эксцентриситет.\n",
    "Площадь эллипса равна $S=pia^2sqrt(1-e^2)$ где a — большая полуось.\n",
    "Согласно второму закону Кеплера, который гласит, что площадь, заметаемая радиус-вектором небесного тела пропорциональна времени, можно написать $S(t)=pia^2sqrt(1-e^2)(t-t0)/T$ где T — период обращения, t — текущее время, t0 — момент времени прохождения перигелия (ближайшей к Солнцу точки орбиты).\n",
    "\n",
    "Найдем теперь зависимость этой площади от положения небесного тела на орбите, то есть от величины радиус-вектора r и истинной аномалии — угла между перигелием и небесным телом, если смотреть с Солнца.\n",
    "\n",
    "Для этого введем дополнительную переменную — эксцентрическую аномалию E.\n",
    "Направим ось x от Солнца (начала координат), которое находится в одном из фокусов эллипса, в сторону перигелия по линии апсид (прямой, соединяющей перицентр с апоцентром).\n",
    "Создадим также вспомогательную окружность с радиусом, равным большой полуоси эллипса.\n",
    "Абсцисса небесного тела в точке $P$ будет равна $x=acos(E)-a*e$ ордината будет, соответственно, равна $y=asin(E)sqrt(1-e^2)$\n",
    "Таким образом, получаем\n",
    "$x=rcos(v)=acos(E)-e$ \n",
    "$y=rsin(v)=asin(E)*sqrt(1-e^2)$\n",
    "Для вычисления площади $S$ рассмотрим вспомогательные фигуры: \n",
    "сектор окружности $P'-O-Per$: $S1=a^2*E/2$\n",
    "\n",
    "Сектор эллипса $P-O-Per$: $S2=S1*sqrt(1-e^2)$\n",
    "\n",
    "Треугольник $O-O'-P$: $S3=1/2(yae)=1/2a^2esinE*sqrt(1-e^2)$\n",
    "\n",
    "Сектор $-O'-Per$: $S=S2-S3$\n",
    "\n",
    "Отсюда, прощадь $S$ равна: $S(t)=1/2a^2sqrt(1-e^2)(E-esin(E))$\n",
    "\n",
    "Сравнивая это выражение с выведенным ранее из второго закона Кеплера, получаем: $M(t)=E(t)-e*sin(E(t))$\n",
    "где $M(t)=2pit/T$"
   ]
  },
  {
   "cell_type": "markdown",
   "metadata": {},
   "source": [
    "# Построение орбиты"
   ]
  },
  {
   "cell_type": "code",
   "execution_count": 37,
   "metadata": {},
   "outputs": [
    {
     "data": {
      "image/png": "[encoded data removed]",
      "text/plain": [
       "<Figure size 432x288 with 1 Axes>"
      ]
     },
     "metadata": {
      "needs_background": "light"
     },
     "output_type": "display_data"
    }
   ],
   "source": [
    "from numpy import*\n",
    "from matplotlib.pyplot import*\n",
    "from math import*\n",
    "M=24.851090\n",
    "e=0.1\n",
    "a=1\n",
    "N=359\n",
    "E=[i for i in arange(0,N)]\n",
    "x=array([a*cos(E1)-e for E1 in E])\n",
    "y=array([a*sin(E1)*sqrt(1-e**0.5) for E1 in E])\n",
    "graph1 = plot(x, y)\n",
    "pass"
   ]
  },
  {
   "cell_type": "markdown",
   "metadata": {},
   "source": [
    "# Найдём E с помощью scipy.optimize.brentq:"
   ]
  },
  {
   "cell_type": "code",
   "execution_count": 30,
   "metadata": {
    "scrolled": true
   },
   "outputs": [
    {
     "name": "stdout",
     "output_type": "stream",
     "text": [
      "24.820357182542914\n"
     ]
    }
   ],
   "source": [
    "from scipy import optimize, special\n",
    "def f(E):\n",
    "    return E-e*sin(E)-M\n",
    "k=optimize.brentq(f,-25,25)\n",
    "print(k)"
   ]
  },
  {
   "cell_type": "markdown",
   "metadata": {},
   "source": [
    "# Найдём E с помощью формулы\n",
    "$$\n",
    " E = M + 2\\sum_{m=1}^{\\infty} \\frac{1}{m} J_m(m\\varepsilon) \\sin(mM),\n",
    "$$\n",
    "           где $J_m(x)$ – функция Бесселя $1$-го рода порядка $m$."
   ]
  },
  {
   "cell_type": "code",
   "execution_count": 31,
   "metadata": {
    "scrolled": true
   },
   "outputs": [
    {
     "name": "stdout",
     "output_type": "stream",
     "text": [
      "24.822653088245808\n"
     ]
    }
   ],
   "source": [
    "E = list()\n",
    "for i in range(1, 10):\n",
    "    E.append(1/i*special.jv(i, e)*sin(i*M))\n",
    "t=M + 2*sum(E)\n",
    "print(t)"
   ]
  },
  {
   "cell_type": "markdown",
   "metadata": {},
   "source": [
    "# Найдём E с помощью предыдущей формулы и равенства:\n",
    " $$\n",
    " J_m(m\\varepsilon) = \\sum_{n=0}^{\\infty} \\frac{(-1)^n (m\\varepsilon/2)^{2n+m}}{n!(m+n)!}.\n",
    " $$\n",
    "    \n",
    "\n"
   ]
  },
  {
   "cell_type": "code",
   "execution_count": 32,
   "metadata": {
    "scrolled": true
   },
   "outputs": [
    {
     "name": "stdout",
     "output_type": "stream",
     "text": [
      "24.820357182559754\n"
     ]
    }
   ],
   "source": [
    "E1 = list()\n",
    "for i in range(1, 10):\n",
    "    Bes = [((-1)**j*((i*e)/2)**(2*j+i))/(factorial(j)*factorial(i+j)) for j in range(10)]\n",
    "    Bessel = sum(Bes)\n",
    "    E1.append(1/i*Bessel*sin(i*M))\n",
    "t=M + 2*sum(E1)\n",
    "print(t)"
   ]
  },
  {
   "cell_type": "markdown",
   "metadata": {},
   "source": [
    "# Вывод\n",
    "1. Результат 1го и 3го способа схожи, результат второго способа значительно отличается\n",
    "2. Все три способа работают с примерно одинаковым быстродействием"
   ]
  }
 ],
 "metadata": {
  "kernelspec": {
   "display_name": "Python 3",
   "language": "python",
   "name": "python3"
  },
  "language_info": {
   "codemirror_mode": {
    "name": "ipython",
    "version": 3
   },
   "file_extension": ".py",
   "mimetype": "text/x-python",
   "name": "python",
   "nbconvert_exporter": "python",
   "pygments_lexer": "ipython3",
   "version": "3.8.5"
  }
 },
 "nbformat": 4,
 "nbformat_minor": 4
}
